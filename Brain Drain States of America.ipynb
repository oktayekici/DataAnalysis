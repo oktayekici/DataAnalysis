{
 "cells": [
  {
   "cell_type": "markdown",
   "metadata": {},
   "source": [
    "# Green Card (Permanent Residence) Entitlements in USA in 2016\n",
    "\n",
    "### Oktay Ekici\n",
    "\n",
    "### January 2019\n",
    "\n",
    "### BDA 507 Intro to Programming for Big Data (Python)  - Term Project."
   ]
  },
  {
   "cell_type": "markdown",
   "metadata": {},
   "source": [
    "# A. Introduction\n",
    "\n",
    "## The Data\n",
    "\n",
    "I have chosen the data of Green Card (Permanent Residence) entitlements of USA which is hosted by kaggle.com . The data presents us the permanent residence applications that have been made in to work&live in USA. This Permanent Residence green card should not be confused with the lottery draw (a.k.a. Green card known world-wide)The dataset includes informations of applications containing the dates of application, employer name and information, the job positions and salaries of applicants, the education level of the applicants, citizenship information etc. The datasets include information of decided applications in the fiscal year of 2016. We will try to understand the main purpose Green Card programme with detailed analysis and if it affects the brain drain world wide."
   ]
  },
  {
   "cell_type": "markdown",
   "metadata": {},
   "source": [
    "# B. Exploratory Data Analysis"
   ]
  },
  {
   "cell_type": "markdown",
   "metadata": {},
   "source": [
    "Let's import our packages"
   ]
  },
  {
   "cell_type": "code",
   "execution_count": 1,
   "metadata": {},
   "outputs": [],
   "source": [
    "import pandas as pd\n",
    "import numpy as np\n",
    "import os\n",
    "import matplotlib.pyplot as plt\n",
    "import seaborn as sns\n",
    "from wordcloud import wordcloud"
   ]
  },
  {
   "cell_type": "markdown",
   "metadata": {},
   "source": [
    "read data from excel files"
   ]
  },
  {
   "cell_type": "code",
   "execution_count": 2,
   "metadata": {},
   "outputs": [],
   "source": [
    "os.chdir(\"C:\\\\Users\\\\oktay\\\\PycharmProjects\\\\greencard\") \n",
    "greencard15 = pd.read_excel(\"PERM_Disclosure_Data_FY15_Q4.xlsx\")\n",
    "greencard16 = pd.read_excel(\"PERM_Disclosure_Data_FY16.xlsx\")\n",
    "greencard17 = pd.read_excel(\"PERM_Disclosure_Data_FY17.xlsx\")\n",
    "greencard18 = pd.read_excel(\"PERM_Disclosure_Data_FY2018_Q4_EOY.xlsx\")\n"
   ]
  },
  {
   "cell_type": "markdown",
   "metadata": {},
   "source": [
    "## Exploring the Data"
   ]
  },
  {
   "cell_type": "markdown",
   "metadata": {},
   "source": [
    "Renaming our non-consistent column names with the consistent ones."
   ]
  },
  {
   "cell_type": "code",
   "execution_count": 3,
   "metadata": {},
   "outputs": [],
   "source": [
    "greencard15=greencard15.rename(columns = {'JI_OFFERED_TO_SEC_J_FOREIGN_WORKER':'JI_OFFERED_TO_SEC_J_FW'})\n",
    "greencard15=greencard15.rename(columns = {'JI_FOREIGN_WORKER_LIVE_ON_PREMISES':'JI_FW_LIVE_ON_PREMISES'})\n",
    "greencard15=greencard15.rename(columns = {'REC_INFO_BARG_REP_NOTIFIED':'RECR_INFO_BARG_REP_NOTIFIED'})\n",
    "greencard15=greencard15.rename(columns = {'PW_Job_Title_9089':'PW_JOB_TITLE_9089'})\n",
    "greencard16=greencard16.rename(columns = {'PW_Job_Title_9089':'PW_JOB_TITLE_9089'})\n",
    "greencard16=greencard16.rename(columns = {'FW_INFO_REL_OCCUP_EXPERIENCE':'FW_INFO_REL_OCCUP_EXP'})\n",
    "greencard18=greencard18.rename(columns = {'JOB_INFO_TRANING_NUM_MONTHS':'JOB_INFO_TRAINING_NUM_MONTHS'})"
   ]
  },
  {
   "cell_type": "code",
   "execution_count": 4,
   "metadata": {},
   "outputs": [
    {
     "name": "stdout",
     "output_type": "stream",
     "text": [
      "greencard 15:  89299 rows, 125 columns\n",
      "greencard 16:  126143 rows, 125 columns\n",
      "greencard 17:  97603 rows, 125 columns\n",
      "greencard 18:  119776 rows, 125 columns\n",
      "total:  432821 rows, 125 columns\n"
     ]
    }
   ],
   "source": [
    "print(\"greencard 15: \",greencard15.shape[0], \"rows,\", greencard15.shape[1], \"columns\")\n",
    "print(\"greencard 16: \",greencard16.shape[0], \"rows,\", greencard16.shape[1], \"columns\")\n",
    "print(\"greencard 17: \",greencard17.shape[0], \"rows,\", greencard17.shape[1], \"columns\")\n",
    "print(\"greencard 18: \",greencard18.shape[0], \"rows,\", greencard18.shape[1], \"columns\")\n",
    "print(\"total: \",greencard18.shape[0]+greencard17.shape[0]+greencard16.shape[0]+greencard15.shape[0], \"rows,\", greencard18.shape[1], \"columns\")"
   ]
  },
  {
   "cell_type": "markdown",
   "metadata": {},
   "source": [
    "There are 432.821 rows and 125 columns.\n",
    "\n",
    "We will add year information for each year's data:"
   ]
  },
  {
   "cell_type": "code",
   "execution_count": 5,
   "metadata": {},
   "outputs": [],
   "source": [
    "greencard15.insert(0, \"year\", \"2015\")"
   ]
  },
  {
   "cell_type": "code",
   "execution_count": 6,
   "metadata": {},
   "outputs": [],
   "source": [
    "greencard16.insert(0, \"year\", \"2016\")"
   ]
  },
  {
   "cell_type": "code",
   "execution_count": 7,
   "metadata": {},
   "outputs": [],
   "source": [
    "greencard17.insert(0, \"year\", \"2017\")"
   ]
  },
  {
   "cell_type": "code",
   "execution_count": 8,
   "metadata": {},
   "outputs": [],
   "source": [
    "greencard18.insert(0, \"year\", \"2018\")"
   ]
  },
  {
   "cell_type": "markdown",
   "metadata": {},
   "source": [
    "Now let's consolidate the data of all years."
   ]
  },
  {
   "cell_type": "code",
   "execution_count": 11,
   "metadata": {},
   "outputs": [],
   "source": [
    "greencard = pd.concat([greencard15, greencard16, greencard17, greencard18], ignore_index=True, sort=False)"
   ]
  },
  {
   "cell_type": "code",
   "execution_count": 12,
   "metadata": {},
   "outputs": [
    {
     "name": "stdout",
     "output_type": "stream",
     "text": [
      "greencard:  432821 rows, 126 columns\n"
     ]
    }
   ],
   "source": [
    "print(\"greencard: \",greencard.shape[0], \"rows,\", greencard.shape[1], \"columns\") "
   ]
  },
  {
   "cell_type": "markdown",
   "metadata": {},
   "source": [
    "## Arrangement of the Data\n",
    "\n",
    "Now we're trying to make the data more readable."
   ]
  },
  {
   "cell_type": "code",
   "execution_count": 13,
   "metadata": {},
   "outputs": [],
   "source": [
    "greencard['JOB_INFO_WORK_STATE'] = greencard['JOB_INFO_WORK_STATE'].replace('CALIFORNIA', 'CA')"
   ]
  },
  {
   "cell_type": "code",
   "execution_count": 14,
   "metadata": {},
   "outputs": [],
   "source": [
    "greencard['JOB_INFO_WORK_STATE'] = greencard['JOB_INFO_WORK_STATE'].replace('ALABAMA', 'AL')"
   ]
  },
  {
   "cell_type": "code",
   "execution_count": 15,
   "metadata": {},
   "outputs": [],
   "source": [
    "greencard['JOB_INFO_WORK_STATE'] = greencard['JOB_INFO_WORK_STATE'].replace('ALASKA', 'AK')"
   ]
  },
  {
   "cell_type": "code",
   "execution_count": 16,
   "metadata": {},
   "outputs": [],
   "source": [
    "greencard['JOB_INFO_WORK_STATE'] = greencard['JOB_INFO_WORK_STATE'].replace('ARIZONA', 'AZ')"
   ]
  },
  {
   "cell_type": "code",
   "execution_count": 17,
   "metadata": {},
   "outputs": [],
   "source": [
    "greencard['JOB_INFO_WORK_STATE'] = greencard['JOB_INFO_WORK_STATE'].replace('ARKANSAS', 'AR')"
   ]
  },
  {
   "cell_type": "code",
   "execution_count": 18,
   "metadata": {},
   "outputs": [],
   "source": [
    "greencard['JOB_INFO_WORK_STATE'] = greencard['JOB_INFO_WORK_STATE'].replace('COLORADO', 'CO')"
   ]
  },
  {
   "cell_type": "code",
   "execution_count": 19,
   "metadata": {},
   "outputs": [],
   "source": [
    "greencard['JOB_INFO_WORK_STATE'] = greencard['JOB_INFO_WORK_STATE'].replace('CONNECTICUT', 'CT')"
   ]
  },
  {
   "cell_type": "code",
   "execution_count": 20,
   "metadata": {},
   "outputs": [],
   "source": [
    "greencard['JOB_INFO_WORK_STATE'] = greencard['JOB_INFO_WORK_STATE'].replace('DELAWARE', 'DE')"
   ]
  },
  {
   "cell_type": "code",
   "execution_count": 21,
   "metadata": {},
   "outputs": [],
   "source": [
    "greencard['JOB_INFO_WORK_STATE'] = greencard['JOB_INFO_WORK_STATE'].replace('DISTRICT OF COLUMBIA', 'DC')"
   ]
  },
  {
   "cell_type": "code",
   "execution_count": 22,
   "metadata": {},
   "outputs": [],
   "source": [
    "greencard['JOB_INFO_WORK_STATE'] = greencard['JOB_INFO_WORK_STATE'].replace('FLORIDA', 'FL')"
   ]
  },
  {
   "cell_type": "code",
   "execution_count": 23,
   "metadata": {},
   "outputs": [],
   "source": [
    "greencard['JOB_INFO_WORK_STATE'] = greencard['JOB_INFO_WORK_STATE'].replace('GEORGIA', 'GA')"
   ]
  },
  {
   "cell_type": "code",
   "execution_count": 24,
   "metadata": {},
   "outputs": [],
   "source": [
    "greencard['JOB_INFO_WORK_STATE'] = greencard['JOB_INFO_WORK_STATE'].replace('GUAM', 'GU')"
   ]
  },
  {
   "cell_type": "code",
   "execution_count": 25,
   "metadata": {},
   "outputs": [],
   "source": [
    "greencard['JOB_INFO_WORK_STATE'] = greencard['JOB_INFO_WORK_STATE'].replace('HAWAII', 'HI')"
   ]
  },
  {
   "cell_type": "code",
   "execution_count": 26,
   "metadata": {},
   "outputs": [],
   "source": [
    "greencard['JOB_INFO_WORK_STATE'] = greencard['JOB_INFO_WORK_STATE'].replace('IDAHO', 'ID')"
   ]
  },
  {
   "cell_type": "code",
   "execution_count": 27,
   "metadata": {},
   "outputs": [],
   "source": [
    "greencard['JOB_INFO_WORK_STATE'] = greencard['JOB_INFO_WORK_STATE'].replace('ILLINOIS', 'IL')"
   ]
  },
  {
   "cell_type": "code",
   "execution_count": 28,
   "metadata": {},
   "outputs": [],
   "source": [
    "greencard['JOB_INFO_WORK_STATE'] = greencard['JOB_INFO_WORK_STATE'].replace('INDIANA', 'IN')"
   ]
  },
  {
   "cell_type": "code",
   "execution_count": 29,
   "metadata": {},
   "outputs": [],
   "source": [
    "greencard['JOB_INFO_WORK_STATE'] = greencard['JOB_INFO_WORK_STATE'].replace('IOWA', 'IA')"
   ]
  },
  {
   "cell_type": "code",
   "execution_count": 30,
   "metadata": {},
   "outputs": [],
   "source": [
    "greencard['JOB_INFO_WORK_STATE'] = greencard['JOB_INFO_WORK_STATE'].replace('KANSAS', 'KS')"
   ]
  },
  {
   "cell_type": "code",
   "execution_count": 31,
   "metadata": {},
   "outputs": [],
   "source": [
    "greencard['JOB_INFO_WORK_STATE'] = greencard['JOB_INFO_WORK_STATE'].replace('KENTUCKY', 'KY')"
   ]
  },
  {
   "cell_type": "code",
   "execution_count": 32,
   "metadata": {},
   "outputs": [],
   "source": [
    "greencard['JOB_INFO_WORK_STATE'] = greencard['JOB_INFO_WORK_STATE'].replace('LOUISIANA', 'LA')"
   ]
  },
  {
   "cell_type": "code",
   "execution_count": 33,
   "metadata": {},
   "outputs": [],
   "source": [
    "greencard['JOB_INFO_WORK_STATE'] = greencard['JOB_INFO_WORK_STATE'].replace('MAINE', 'ME')"
   ]
  },
  {
   "cell_type": "code",
   "execution_count": 34,
   "metadata": {},
   "outputs": [],
   "source": [
    "greencard['JOB_INFO_WORK_STATE'] = greencard['JOB_INFO_WORK_STATE'].replace('MARYLAND', 'MD')"
   ]
  },
  {
   "cell_type": "code",
   "execution_count": 35,
   "metadata": {},
   "outputs": [],
   "source": [
    "greencard['JOB_INFO_WORK_STATE'] = greencard['JOB_INFO_WORK_STATE'].replace('MASSACHUSETTS', 'MA')"
   ]
  },
  {
   "cell_type": "code",
   "execution_count": 36,
   "metadata": {},
   "outputs": [],
   "source": [
    "greencard['JOB_INFO_WORK_STATE'] = greencard['JOB_INFO_WORK_STATE'].replace('MICHIGAN', 'MI')"
   ]
  },
  {
   "cell_type": "code",
   "execution_count": 37,
   "metadata": {},
   "outputs": [],
   "source": [
    "greencard['JOB_INFO_WORK_STATE'] = greencard['JOB_INFO_WORK_STATE'].replace('MINNESOTA', 'MN')"
   ]
  },
  {
   "cell_type": "code",
   "execution_count": 38,
   "metadata": {},
   "outputs": [],
   "source": [
    "greencard['JOB_INFO_WORK_STATE'] = greencard['JOB_INFO_WORK_STATE'].replace('MISSISSIPPI', 'MS')"
   ]
  },
  {
   "cell_type": "code",
   "execution_count": 39,
   "metadata": {},
   "outputs": [],
   "source": [
    "greencard['JOB_INFO_WORK_STATE'] = greencard['JOB_INFO_WORK_STATE'].replace('MISSOURI', 'MO')"
   ]
  },
  {
   "cell_type": "code",
   "execution_count": 40,
   "metadata": {},
   "outputs": [],
   "source": [
    "greencard['JOB_INFO_WORK_STATE'] = greencard['JOB_INFO_WORK_STATE'].replace('MONTANA', 'MT')"
   ]
  },
  {
   "cell_type": "code",
   "execution_count": 41,
   "metadata": {},
   "outputs": [],
   "source": [
    "greencard['JOB_INFO_WORK_STATE'] = greencard['JOB_INFO_WORK_STATE'].replace('NEBRASKA', 'NE')"
   ]
  },
  {
   "cell_type": "code",
   "execution_count": 42,
   "metadata": {},
   "outputs": [],
   "source": [
    "greencard['JOB_INFO_WORK_STATE'] = greencard['JOB_INFO_WORK_STATE'].replace('NEVADA', 'NV')"
   ]
  },
  {
   "cell_type": "code",
   "execution_count": 43,
   "metadata": {},
   "outputs": [],
   "source": [
    "greencard['JOB_INFO_WORK_STATE'] = greencard['JOB_INFO_WORK_STATE'].replace('NEW HAMPSHIRE', 'NH')"
   ]
  },
  {
   "cell_type": "code",
   "execution_count": 44,
   "metadata": {},
   "outputs": [],
   "source": [
    "greencard['JOB_INFO_WORK_STATE'] = greencard['JOB_INFO_WORK_STATE'].replace('NEW JERSEY', 'NJ')"
   ]
  },
  {
   "cell_type": "code",
   "execution_count": 45,
   "metadata": {},
   "outputs": [],
   "source": [
    "greencard['JOB_INFO_WORK_STATE'] = greencard['JOB_INFO_WORK_STATE'].replace('NEW MEXICO', 'NM')"
   ]
  },
  {
   "cell_type": "code",
   "execution_count": 46,
   "metadata": {},
   "outputs": [],
   "source": [
    "greencard['JOB_INFO_WORK_STATE'] = greencard['JOB_INFO_WORK_STATE'].replace('NEW YORK', 'NY')"
   ]
  },
  {
   "cell_type": "code",
   "execution_count": 47,
   "metadata": {},
   "outputs": [],
   "source": [
    "greencard['JOB_INFO_WORK_STATE'] = greencard['JOB_INFO_WORK_STATE'].replace('NORTH CAROLINA', 'NC')"
   ]
  },
  {
   "cell_type": "code",
   "execution_count": 48,
   "metadata": {},
   "outputs": [],
   "source": [
    "greencard['JOB_INFO_WORK_STATE'] = greencard['JOB_INFO_WORK_STATE'].replace('NORTH DAKOTA', 'ND')"
   ]
  },
  {
   "cell_type": "code",
   "execution_count": 49,
   "metadata": {},
   "outputs": [],
   "source": [
    "greencard['JOB_INFO_WORK_STATE'] = greencard['JOB_INFO_WORK_STATE'].replace('OKLAHOMA', 'OK')"
   ]
  },
  {
   "cell_type": "code",
   "execution_count": 50,
   "metadata": {},
   "outputs": [],
   "source": [
    "greencard['JOB_INFO_WORK_STATE'] = greencard['JOB_INFO_WORK_STATE'].replace('OHIO', 'OH')"
   ]
  },
  {
   "cell_type": "code",
   "execution_count": 51,
   "metadata": {},
   "outputs": [],
   "source": [
    "greencard['JOB_INFO_WORK_STATE'] = greencard['JOB_INFO_WORK_STATE'].replace('OREGON', 'OR')"
   ]
  },
  {
   "cell_type": "code",
   "execution_count": 52,
   "metadata": {},
   "outputs": [],
   "source": [
    "greencard['JOB_INFO_WORK_STATE'] = greencard['JOB_INFO_WORK_STATE'].replace('PENNSYLVANIA', 'PA')"
   ]
  },
  {
   "cell_type": "code",
   "execution_count": 53,
   "metadata": {},
   "outputs": [],
   "source": [
    "greencard['JOB_INFO_WORK_STATE'] = greencard['JOB_INFO_WORK_STATE'].replace('RHODE ISLAND', 'RI')"
   ]
  },
  {
   "cell_type": "code",
   "execution_count": 54,
   "metadata": {},
   "outputs": [],
   "source": [
    "greencard['JOB_INFO_WORK_STATE'] = greencard['JOB_INFO_WORK_STATE'].replace('SOUTH CAROLINA', 'SC')"
   ]
  },
  {
   "cell_type": "code",
   "execution_count": 55,
   "metadata": {},
   "outputs": [],
   "source": [
    "greencard['JOB_INFO_WORK_STATE'] = greencard['JOB_INFO_WORK_STATE'].replace('SOUTH DAKOTA', 'SD')"
   ]
  },
  {
   "cell_type": "code",
   "execution_count": 56,
   "metadata": {},
   "outputs": [],
   "source": [
    "greencard['JOB_INFO_WORK_STATE'] = greencard['JOB_INFO_WORK_STATE'].replace('TENNESSEE', 'TN')"
   ]
  },
  {
   "cell_type": "code",
   "execution_count": 57,
   "metadata": {},
   "outputs": [],
   "source": [
    "greencard['JOB_INFO_WORK_STATE'] = greencard['JOB_INFO_WORK_STATE'].replace('TEXAS', 'TX')"
   ]
  },
  {
   "cell_type": "code",
   "execution_count": 58,
   "metadata": {},
   "outputs": [],
   "source": [
    "greencard['JOB_INFO_WORK_STATE'] = greencard['JOB_INFO_WORK_STATE'].replace('UTAH', 'UT')"
   ]
  },
  {
   "cell_type": "code",
   "execution_count": 59,
   "metadata": {},
   "outputs": [],
   "source": [
    "greencard['JOB_INFO_WORK_STATE'] = greencard['JOB_INFO_WORK_STATE'].replace('VERMONT', 'VT')"
   ]
  },
  {
   "cell_type": "code",
   "execution_count": 60,
   "metadata": {},
   "outputs": [],
   "source": [
    "greencard['JOB_INFO_WORK_STATE'] = greencard['JOB_INFO_WORK_STATE'].replace('VIRGINIA', 'VA')"
   ]
  },
  {
   "cell_type": "code",
   "execution_count": 61,
   "metadata": {},
   "outputs": [],
   "source": [
    "greencard['JOB_INFO_WORK_STATE'] = greencard['JOB_INFO_WORK_STATE'].replace('WASHINGTON', 'WA')"
   ]
  },
  {
   "cell_type": "code",
   "execution_count": 62,
   "metadata": {},
   "outputs": [],
   "source": [
    "greencard['JOB_INFO_WORK_STATE'] = greencard['JOB_INFO_WORK_STATE'].replace('WEST VIRGINIA', 'WV')"
   ]
  },
  {
   "cell_type": "code",
   "execution_count": 63,
   "metadata": {},
   "outputs": [],
   "source": [
    "greencard['JOB_INFO_WORK_STATE'] = greencard['JOB_INFO_WORK_STATE'].replace('WISCONSIN', 'WI')"
   ]
  },
  {
   "cell_type": "code",
   "execution_count": 64,
   "metadata": {},
   "outputs": [],
   "source": [
    "greencard['JOB_INFO_WORK_STATE'] = greencard['JOB_INFO_WORK_STATE'].replace('WYOMING', 'WY')"
   ]
  },
  {
   "cell_type": "code",
   "execution_count": 78,
   "metadata": {},
   "outputs": [],
   "source": [
    "greencard['JOB_INFO_JOB_TITLE'] = greencard['JOB_INFO_JOB_TITLE'].replace('SOFTWARE ENGINEER', 'Software Engineer')"
   ]
  },
  {
   "cell_type": "code",
   "execution_count": 65,
   "metadata": {},
   "outputs": [
    {
     "data": {
      "text/plain": [
       "['year',\n",
       " 'CASE_NUMBER',\n",
       " 'DECISION_DATE',\n",
       " 'CASE_STATUS',\n",
       " 'CASE_RECEIVED_DATE',\n",
       " 'REFILE',\n",
       " 'ORIG_FILE_DATE',\n",
       " 'ORIG_CASE_NO',\n",
       " 'SCHD_A_SHEEPHERDER',\n",
       " 'EMPLOYER_NAME',\n",
       " 'EMPLOYER_ADDRESS_1',\n",
       " 'EMPLOYER_ADDRESS_2',\n",
       " 'EMPLOYER_CITY',\n",
       " 'EMPLOYER_STATE',\n",
       " 'EMPLOYER_COUNTRY',\n",
       " 'EMPLOYER_POSTAL_CODE',\n",
       " 'EMPLOYER_PHONE',\n",
       " 'EMPLOYER_PHONE_EXT',\n",
       " 'EMPLOYER_NUM_EMPLOYEES',\n",
       " 'EMPLOYER_YR_ESTAB',\n",
       " 'FW_OWNERSHIP_INTEREST',\n",
       " 'AGENT_FIRM_NAME',\n",
       " 'AGENT_CITY',\n",
       " 'AGENT_STATE',\n",
       " 'PW_TRACK_NUM',\n",
       " 'PW_SOC_CODE',\n",
       " 'PW_SOC_TITLE',\n",
       " 'PW_LEVEL_9089',\n",
       " 'PW_AMOUNT_9089',\n",
       " 'PW_UNIT_OF_PAY_9089',\n",
       " 'PW_SOURCE_NAME_9089',\n",
       " 'PW_SOURCE_NAME_OTHER_9089',\n",
       " 'PW_DETERM_DATE',\n",
       " 'PW_EXPIRE_DATE',\n",
       " 'WAGE_OFFER_FROM_9089',\n",
       " 'WAGE_OFFER_TO_9089',\n",
       " 'WAGE_OFFER_UNIT_OF_PAY_9089',\n",
       " 'JOB_INFO_WORK_CITY',\n",
       " 'JOB_INFO_WORK_STATE',\n",
       " 'JOB_INFO_WORK_POSTAL_CODE',\n",
       " 'JOB_INFO_JOB_TITLE',\n",
       " 'JOB_INFO_EDUCATION',\n",
       " 'JOB_INFO_EDUCATION_OTHER',\n",
       " 'JOB_INFO_MAJOR',\n",
       " 'JOB_INFO_TRAINING',\n",
       " 'JOB_INFO_TRAINING_NUM_MONTHS',\n",
       " 'JOB_INFO_TRAINING_FIELD',\n",
       " 'JOB_INFO_EXPERIENCE',\n",
       " 'JOB_INFO_EXPERIENCE_NUM_MONTHS',\n",
       " 'JOB_INFO_ALT_FIELD',\n",
       " 'JOB_INFO_ALT_FIELD_NAME',\n",
       " 'JOB_INFO_ALT_COMBO_ED_EXP',\n",
       " 'JOB_INFO_ALT_COMBO_ED',\n",
       " 'JOB_INFO_ALT_COMBO_ED_OTHER',\n",
       " 'JOB_INFO_ALT_CMB_ED_OTH_YRS',\n",
       " 'JOB_INFO_FOREIGN_ED',\n",
       " 'JOB_INFO_ALT_OCC',\n",
       " 'JOB_INFO_ALT_OCC_NUM_MONTHS',\n",
       " 'JOB_INFO_ALT_OCC_JOB_TITLE',\n",
       " 'JOB_INFO_JOB_REQ_NORMAL',\n",
       " 'JOB_INFO_FOREIGN_LANG_REQ',\n",
       " 'JOB_INFO_COMBO_OCCUPATION',\n",
       " 'JI_OFFERED_TO_SEC_J_FW',\n",
       " 'JI_FW_LIVE_ON_PREMISES',\n",
       " 'JI_LIVE_IN_DOMESTIC_SERVICE',\n",
       " 'JI_LIVE_IN_DOM_SVC_CONTRACT',\n",
       " 'RECR_INFO_PROFESSIONAL_OCC',\n",
       " 'RECR_INFO_COLL_UNIV_TEACHER',\n",
       " 'RECR_INFO_COLL_TEACH_COMP_PROC',\n",
       " 'RI_COLL_TCH_BASIC_PROCESS',\n",
       " 'RI_COLL_TEACH_SELECT_DATE',\n",
       " 'RI_COLL_TEACH_PRO_JNL',\n",
       " 'RECR_INFO_SWA_JOB_ORDER_START',\n",
       " 'RECR_INFO_SWA_JOB_ORDER_END',\n",
       " 'RECR_INFO_SUNDAY_NEWSPAPER',\n",
       " 'RI_1ST_AD_NEWSPAPER_NAME',\n",
       " 'RECR_INFO_FIRST_AD_START',\n",
       " 'RI_2ND_AD_NEWSPAPER_NAME',\n",
       " 'RI_2ND_AD_NEWSPAPER_OR_JOURNAL',\n",
       " 'RECR_INFO_SECOND_AD_START',\n",
       " 'RECR_INFO_JOB_FAIR_FROM',\n",
       " 'RECR_INFO_JOB_FAIR_TO',\n",
       " 'RECR_INFO_ON_CAMPUS_RECR_FROM',\n",
       " 'RECR_INFO_ON_CAMPUS_RECR_TO',\n",
       " 'RI_EMPLOYER_WEB_POST_FROM',\n",
       " 'RI_EMPLOYER_WEB_POST_TO',\n",
       " 'RECR_INFO_PRO_ORG_ADVERT_FROM',\n",
       " 'RECR_INFO_PRO_ORG_ADVERT_TO',\n",
       " 'RI_JOB_SEARCH_WEBSITE_FROM',\n",
       " 'RI_JOB_SEARCH_WEBSITE_TO',\n",
       " 'RI_PVT_EMPLOYMENT_FIRM_FROM',\n",
       " 'RI_PVT_EMPLOYMENT_FIRM_TO',\n",
       " 'RI_EMPLOYEE_REFERRAL_PROG_FROM',\n",
       " 'RI_EMPLOYEE_REFERRAL_PROG_TO',\n",
       " 'RI_CAMPUS_PLACEMENT_FROM',\n",
       " 'RI_CAMPUS_PLACEMENT_TO',\n",
       " 'RI_LOCAL_ETHNIC_PAPER_FROM',\n",
       " 'RI_LOCAL_ETHNIC_PAPER_TO',\n",
       " 'RECR_INFO_RADIO_TV_AD_FROM',\n",
       " 'RECR_INFO_RADIO_TV_AD_TO',\n",
       " 'RECR_INFO_EMPLOYER_REC_PAYMENT',\n",
       " 'RECR_INFO_BARG_REP_NOTIFIED',\n",
       " 'RI_POSTED_NOTICE_AT_WORKSITE',\n",
       " 'RI_LAYOFF_IN_PAST_SIX_MONTHS',\n",
       " 'RI_US_WORKERS_CONSIDERED',\n",
       " 'FOREIGN_WORKER_INFO_CITY',\n",
       " 'FOREIGN_WORKER_INFO_STATE',\n",
       " 'FW_INFO_POSTAL_CODE',\n",
       " 'COUNTRY_OF_CITIZENSHIP',\n",
       " 'FW_INFO_BIRTH_COUNTRY',\n",
       " 'CLASS_OF_ADMISSION',\n",
       " 'FOREIGN_WORKER_INFO_EDUCATION',\n",
       " 'FW_INFO_EDUCATION_OTHER',\n",
       " 'FOREIGN_WORKER_INFO_MAJOR',\n",
       " 'FW_INFO_YR_REL_EDU_COMPLETED',\n",
       " 'FOREIGN_WORKER_INFO_INST',\n",
       " 'FW_INFO_TRAINING_COMP',\n",
       " 'FW_INFO_REQ_EXPERIENCE',\n",
       " 'FW_INFO_ALT_EDU_EXPERIENCE',\n",
       " 'FW_INFO_REL_OCCUP_EXP',\n",
       " 'PREPARER_INFO_EMP_COMPLETED',\n",
       " 'PREPARER_INFO_TITLE',\n",
       " 'EMPLOYER_DECL_INFO_TITLE',\n",
       " 'NAICS_US_CODE',\n",
       " 'NAICS_US_TITLE',\n",
       " 'PW_JOB_TITLE_9089']"
      ]
     },
     "execution_count": 65,
     "metadata": {},
     "output_type": "execute_result"
    }
   ],
   "source": [
    "list(greencard)"
   ]
  },
  {
   "cell_type": "markdown",
   "metadata": {},
   "source": [
    "Dataframe to csv conversion"
   ]
  },
  {
   "cell_type": "markdown",
   "metadata": {},
   "source": [
    "let's save the consolidated data to a csv file."
   ]
  },
  {
   "cell_type": "code",
   "execution_count": 66,
   "metadata": {},
   "outputs": [],
   "source": [
    "greencard.to_csv('greencardconsolidated.csv', sep='\\t', encoding='utf-8')"
   ]
  },
  {
   "cell_type": "markdown",
   "metadata": {},
   "source": [
    "## Analyzing and Visualizing the Data"
   ]
  },
  {
   "cell_type": "markdown",
   "metadata": {},
   "source": [
    "Which countries the most applications are from? Let's see the Top 20!"
   ]
  },
  {
   "cell_type": "code",
   "execution_count": 67,
   "metadata": {},
   "outputs": [
    {
     "data": {
      "text/plain": [
       "INDIA             229167\n",
       "CHINA              39302\n",
       "SOUTH KOREA        28793\n",
       "CANADA             15516\n",
       "MEXICO             11663\n",
       "PHILIPPINES         7528\n",
       "VIETNAM             5898\n",
       "UNITED KINGDOM      5124\n",
       "TAIWAN              4656\n",
       "BRAZIL              4509\n",
       "PAKISTAN            4385\n",
       "VENEZUELA           3704\n",
       "FRANCE              3676\n",
       "NEPAL               3460\n",
       "IRAN                3430\n",
       "JAPAN               3063\n",
       "RUSSIA              2957\n",
       "TURKEY              2784\n",
       "GERMANY             2512\n",
       "ITALY               2357\n",
       "Name: COUNTRY_OF_CITIZENSHIP, dtype: int64"
      ]
     },
     "execution_count": 67,
     "metadata": {},
     "output_type": "execute_result"
    }
   ],
   "source": [
    "greencard['COUNTRY_OF_CITIZENSHIP'].value_counts()[:20]"
   ]
  },
  {
   "cell_type": "markdown",
   "metadata": {},
   "source": [
    "Same information in plot:"
   ]
  },
  {
   "cell_type": "code",
   "execution_count": 68,
   "metadata": {},
   "outputs": [
    {
     "data": {
      "image/png": "[encoded data removed]",
      "text/plain": [
       "<Figure size 432x288 with 1 Axes>"
      ]
     },
     "metadata": {
      "needs_background": "light"
     },
     "output_type": "display_data"
    }
   ],
   "source": [
    "greencard['COUNTRY_OF_CITIZENSHIP'].value_counts()[:20].plot(kind='bar', rot=90)\n",
    "plt.ylabel('Emigrant Amount')\n",
    "plt.title(\"Number of Emigrants' Countries\")\n",
    "plt.show()"
   ]
  },
  {
   "cell_type": "markdown",
   "metadata": {},
   "source": [
    "As you can see, India dominates the applications, followed by China, South Korea and Canada. Now let's see the distribution of cities where most immigrants move in."
   ]
  },
  {
   "cell_type": "markdown",
   "metadata": {},
   "source": [
    "Let's see the most preferred city"
   ]
  },
  {
   "cell_type": "code",
   "execution_count": 69,
   "metadata": {},
   "outputs": [
    {
     "data": {
      "image/png": "[encoded data removed]",
      "text/plain": [
       "<Figure size 432x288 with 1 Axes>"
      ]
     },
     "metadata": {
      "needs_background": "light"
     },
     "output_type": "display_data"
    }
   ],
   "source": [
    "greencard['JOB_INFO_WORK_CITY'].value_counts()[:10].plot(kind='barh', rot=0)\n",
    "plt.xlabel('Applications')\n",
    "plt.title(\"Cities with most applications\")\n",
    "plt.show()"
   ]
  },
  {
   "cell_type": "markdown",
   "metadata": {},
   "source": [
    "Great! New York leads as expected. And how about the states? Which state is the one with most applications?"
   ]
  },
  {
   "cell_type": "code",
   "execution_count": 70,
   "metadata": {
    "scrolled": true
   },
   "outputs": [
    {
     "data": {
      "image/png": "[encoded data removed]",
      "text/plain": [
       "<Figure size 432x288 with 1 Axes>"
      ]
     },
     "metadata": {
      "needs_background": "light"
     },
     "output_type": "display_data"
    }
   ],
   "source": [
    "greencard['JOB_INFO_WORK_STATE'].value_counts()[:10].plot(kind='barh', rot=0, color=\"green\")\n",
    "plt.xlabel('Applications')\n",
    "plt.ylabel('States')\n",
    "plt.title(\"States with most applications\")\n",
    "plt.show()"
   ]
  },
  {
   "cell_type": "markdown",
   "metadata": {},
   "source": [
    "Yaay California Republic!! (which I love the most amongst them). Can it be an effect of Silicon Valley? Let's see the employers who apply for the most greencards for their pre-employees:"
   ]
  },
  {
   "cell_type": "code",
   "execution_count": 71,
   "metadata": {
    "scrolled": true
   },
   "outputs": [],
   "source": [
    "greencard_most = greencard.JOB_INFO_WORK_STATE == 'CA'\n",
    "green_ca = greencard[greencard_most]  # We assigned the Californian applications to green_ca"
   ]
  },
  {
   "cell_type": "code",
   "execution_count": 72,
   "metadata": {
    "scrolled": true
   },
   "outputs": [
    {
     "data": {
      "image/png": "[encoded data removed]",
      "text/plain": [
       "<Figure size 432x288 with 1 Axes>"
      ]
     },
     "metadata": {
      "needs_background": "light"
     },
     "output_type": "display_data"
    }
   ],
   "source": [
    "green_ca['EMPLOYER_NAME'].value_counts()[:20].plot(kind='barh', rot=0)\n",
    "plt.xlabel('Applications')\n",
    "plt.title(\"Top 20 Californian Companies With Most Applications\")\n",
    "plt.show()"
   ]
  },
  {
   "cell_type": "markdown",
   "metadata": {},
   "source": [
    "The companies with most applications in California:"
   ]
  },
  {
   "cell_type": "code",
   "execution_count": 73,
   "metadata": {},
   "outputs": [
    {
     "data": {
      "text/plain": [
       "GOOGLE INC.                   4827\n",
       "APPLE INC.                    3330\n",
       "INTEL CORPORATION             3016\n",
       "FACEBOOK, INC.                2662\n",
       "CISCO SYSTEMS, INC.           1935\n",
       "QUALCOMM TECHNOLOGIES INC.    1827\n",
       "ORACLE AMERICA, INC.          1758\n",
       "GOOGLE LLC                    1220\n",
       "YAHOO! INC.                   1083\n",
       "SALESFORCE.COM                 996\n",
       "Name: EMPLOYER_NAME, dtype: int64"
      ]
     },
     "execution_count": 73,
     "metadata": {},
     "output_type": "execute_result"
    }
   ],
   "source": [
    "green_ca['EMPLOYER_NAME'].value_counts()[:10]"
   ]
  },
  {
   "cell_type": "markdown",
   "metadata": {},
   "source": [
    "The companies with most applications nationwide:"
   ]
  },
  {
   "cell_type": "code",
   "execution_count": 74,
   "metadata": {},
   "outputs": [
    {
     "data": {
      "text/plain": [
       "COGNIZANT TECHNOLOGY SOLUTIONS US CORPORATION    15713\n",
       "MICROSOFT CORPORATION                             8672\n",
       "INTEL CORPORATION                                 7410\n",
       "AMAZON CORPORATE LLC                              6235\n",
       "GOOGLE INC.                                       5801\n",
       "APPLE INC.                                        3474\n",
       "FACEBOOK, INC.                                    3247\n",
       "INFOSYS LTD.                                      3066\n",
       "ORACLE AMERICA, INC.                              2732\n",
       "HCL AMERICA INC.                                  2713\n",
       "CISCO SYSTEMS, INC.                               2585\n",
       "DELOITTE CONSULTING LLP                           2174\n",
       "QUALCOMM TECHNOLOGIES INC.                        2022\n",
       "Defender Services, Inc.                           1654\n",
       "JP MORGAN CHASE & CO                              1576\n",
       "ERNST & YOUNG U.S. LLP                            1510\n",
       "GOOGLE LLC                                        1489\n",
       "HOUSE OF RAEFORD FARMS, INC.                      1454\n",
       "TATA CONSULTANCY SERVICES LIMITED                 1369\n",
       "SALESFORCE.COM                                    1265\n",
       "Name: EMPLOYER_NAME, dtype: int64"
      ]
     },
     "execution_count": 74,
     "metadata": {},
     "output_type": "execute_result"
    }
   ],
   "source": [
    "greencard['EMPLOYER_NAME'].value_counts()[:20]"
   ]
  },
  {
   "cell_type": "markdown",
   "metadata": {},
   "source": [
    "As we can see, the biggest 20 companies that hire the most employees are tech companies. But is it only tech-skilled positions? Le's see the top 10!"
   ]
  },
  {
   "cell_type": "code",
   "execution_count": 75,
   "metadata": {},
   "outputs": [
    {
     "data": {
      "image/png": "[encoded data removed]",
      "text/plain": [
       "<Figure size 432x288 with 1 Axes>"
      ]
     },
     "metadata": {
      "needs_background": "light"
     },
     "output_type": "display_data"
    }
   ],
   "source": [
    "green_ca['JOB_INFO_JOB_TITLE'].value_counts()[:10].plot(kind='barh', rot=0, color=\"magenta\")\n",
    "plt.xlabel('Applications')\n",
    "plt.title(\"Top 10 Positions With Most Applications in California\")\n",
    "plt.show()"
   ]
  },
  {
   "cell_type": "markdown",
   "metadata": {},
   "source": [
    "Is it the same nation-wide? "
   ]
  },
  {
   "cell_type": "code",
   "execution_count": 79,
   "metadata": {
    "scrolled": true
   },
   "outputs": [
    {
     "data": {
      "image/png": "[encoded data removed]",
      "text/plain": [
       "<Figure size 432x288 with 1 Axes>"
      ]
     },
     "metadata": {
      "needs_background": "light"
     },
     "output_type": "display_data"
    }
   ],
   "source": [
    "greencard['JOB_INFO_JOB_TITLE'].value_counts()[:10].plot(kind='barh', rot=0)\n",
    "plt.xlabel('Applications')\n",
    "plt.title(\"Top 10 Positions With Most Applications in USA\")\n",
    "plt.show()"
   ]
  },
  {
   "cell_type": "markdown",
   "metadata": {},
   "source": [
    "We can see that the permanent residence applications inside USA are mostly for tech - software positions. This can show us that biggest tech companies gather the software engineers, developers and analysts from all around the world. It's also strange that Top 10 positions are all computer-tech positions.\n",
    "\n",
    "Let's take a closer look at the graduation years in order to understand if the baby boomers or the fresh-graduates move to another country easily."
   ]
  },
  {
   "cell_type": "code",
   "execution_count": 80,
   "metadata": {},
   "outputs": [
    {
     "data": {
      "image/png": "[encoded data removed]",
      "text/plain": [
       "<Figure size 432x288 with 1 Axes>"
      ]
     },
     "metadata": {
      "needs_background": "light"
     },
     "output_type": "display_data"
    }
   ],
   "source": [
    "generation = []  #We distribute applicants' graduation years into sub-categories\n",
    "\n",
    "for i in greencard['FW_INFO_YR_REL_EDU_COMPLETED']:\n",
    "    if i > 2010:\n",
    "        generation.append('2010+')\n",
    "    elif i > 2005:\n",
    "        generation.append('2005-2010')\n",
    "    elif i > 2000:\n",
    "        generation.append('2000-2005')\n",
    "    elif i > 1990:\n",
    "        generation.append('1990-2000')\n",
    "    else:\n",
    "        generation.append('Until 1990 or no record ')\n",
    "\n",
    "greencard['generation'] = generation \n",
    "greencard['generation'].value_counts().plot(kind='barh', rot=0)\n",
    "plt.xlabel('Applications')\n",
    "plt.title(\"Graduation Years of Applicants\")\n",
    "plt.show()"
   ]
  },
  {
   "cell_type": "markdown",
   "metadata": {},
   "source": [
    "This graph shows that the newly-grads and less experienceds are the ones who move to USA the most. \n",
    "\n",
    "Now have a look at the education level, are they mostly under-grads or do they have Master's Degree?"
   ]
  },
  {
   "cell_type": "code",
   "execution_count": 81,
   "metadata": {
    "scrolled": true
   },
   "outputs": [
    {
     "data": {
      "image/png": "[encoded data removed]",
      "text/plain": [
       "<Figure size 432x288 with 1 Axes>"
      ]
     },
     "metadata": {
      "needs_background": "light"
     },
     "output_type": "display_data"
    }
   ],
   "source": [
    "greencard['FOREIGN_WORKER_INFO_EDUCATION'].value_counts().plot(kind='barh', rot=0, color=\"blue\")\n",
    "plt.xlabel('Applications')\n",
    "plt.title(\"Graduation Degrees of Applicants\")\n",
    "plt.show()"
   ]
  },
  {
   "cell_type": "markdown",
   "metadata": {},
   "source": [
    "Master's Degree and Bachelor's Degree rule over them all significantly.\n",
    "\n",
    "In the 2 graphs below, we will try to understand the applications' decisions. In which month the most applications are decided and their  decision status."
   ]
  },
  {
   "cell_type": "code",
   "execution_count": 82,
   "metadata": {},
   "outputs": [
    {
     "data": {
      "image/png": "[encoded data removed]",
      "text/plain": [
       "<Figure size 432x288 with 1 Axes>"
      ]
     },
     "metadata": {
      "needs_background": "light"
     },
     "output_type": "display_data"
    }
   ],
   "source": [
    "greencard['decision_month'] = pd.to_datetime(greencard['DECISION_DATE']).dt.to_period('Y') #We take only the month and year\n",
    "\n",
    "greencard['decision_month'].value_counts().plot(kind='barh', rot=0)\n",
    "plt.xlabel('Applications')\n",
    "plt.title(\"Decision Date of Applications\")\n",
    "plt.show()"
   ]
  },
  {
   "cell_type": "code",
   "execution_count": 83,
   "metadata": {},
   "outputs": [
    {
     "data": {
      "image/png": "[encoded data removed]",
      "text/plain": [
       "<Figure size 432x288 with 1 Axes>"
      ]
     },
     "metadata": {
      "needs_background": "light"
     },
     "output_type": "display_data"
    }
   ],
   "source": [
    "sns.countplot(x=\"CASE_STATUS\", data=greencard )   \n",
    "plt.xlabel('Case Status')\n",
    "plt.ylabel('Applications')\n",
    "plt.title(\"Case Status of Greencard Applications\")\n",
    "plt.show()"
   ]
  },
  {
   "cell_type": "markdown",
   "metadata": {},
   "source": [
    "Are there any relationship about their application status and graduation degrees?"
   ]
  },
  {
   "cell_type": "code",
   "execution_count": 84,
   "metadata": {},
   "outputs": [
    {
     "data": {
      "image/png": "[encoded data removed]",
      "text/plain": [
       "<Figure size 432x288 with 1 Axes>"
      ]
     },
     "metadata": {
      "needs_background": "light"
     },
     "output_type": "display_data"
    }
   ],
   "source": [
    "sns.countplot(x='FOREIGN_WORKER_INFO_EDUCATION', hue = 'CASE_STATUS',data=greencard[greencard['CASE_STATUS'] != 'NDF'])\n",
    "plt.xlabel('Degree')\n",
    "plt.ylabel('Applications')\n",
    "plt.title('The Countries Booked based on Genders')\n",
    "plt.show()"
   ]
  },
  {
   "cell_type": "markdown",
   "metadata": {},
   "source": [
    "When compare the None-Degree applicants' \"Denied\" status with all other status, the comparison shows that people with \"None-Degree\" have a higher possibility to be denied for permanent residence application. "
   ]
  },
  {
   "cell_type": "markdown",
   "metadata": {},
   "source": [
    "# C. Conclusion"
   ]
  },
  {
   "cell_type": "markdown",
   "metadata": {},
   "source": [
    "## Brain Drain\n",
    "\n",
    "When I built on this analysis to identify the Permanent Residence application statistics in U.S.A., I did not think that the highly skilled brain drain could be seen this clear. The obvious thing is, USA gathers the high skilled tech-brains and strengthen the technology-software industry in their country to an inaccesible and unachiveable level.\n",
    "\n",
    "While USA is gaining power in the high-tech skilled employees, countries like India, China, South Korea, Canada even UK are losing their talented citizens. The orientation to USA of Indian skilled immigrants is spectecularly high when we compare it to the populations with China (almost same populations but Indian skilled immigration is almost 7 times higher than Chinese).\n",
    "\n",
    "On the other hand, it is apparent that even though the applicants are however-skilled, if they don't have degrees, their refusal possibility is much more higher than others. This indicates that USA takes degrees serious.\n",
    "\n",
    "## Summary \n",
    "\n",
    "Mostly fresh graduates, with Bachelor's or Master's Degree who are into Software Development or Software Engineering are targets of high-tech companies like Google, Apple, Intel etc. This aim easily sums up why mostly the American companies dominate high-tech industry. Will another country be an opponent to USA? We will see. "
   ]
  },
  {
   "cell_type": "markdown",
   "metadata": {},
   "source": [
    "# D. References\n",
    "\n",
    "[1] Green card & H1B applications https://www.kaggle.com/jonamjar/green-card-h1b-20142018"
   ]
  }
 ],
 "metadata": {
  "kernelspec": {
   "display_name": "Python 3",
   "language": "python",
   "name": "python3"
  },
  "language_info": {
   "codemirror_mode": {
    "name": "ipython",
    "version": 3
   },
   "file_extension": ".py",
   "mimetype": "text/x-python",
   "name": "python",
   "nbconvert_exporter": "python",
   "pygments_lexer": "ipython3",
   "version": "3.7.1"
  }
 },
 "nbformat": 4,
 "nbformat_minor": 2
}
